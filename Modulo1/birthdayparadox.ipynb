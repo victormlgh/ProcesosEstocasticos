{
 "cells": [
  {
   "cell_type": "markdown",
   "metadata": {},
   "source": [
    "<h1>Simulación de La Paradoja del Cumpleaños: Explorando las Probabilidades de Coincidencias de Cumpleaños</h1>\n",
    "\n",
    "La paradoja del cumpleaños es un fenómeno intrigante en la teoría de la probabilidad que desafía la intuición. La paradoja se refiere a la aparente contradicción entre la probabilidad de que dos personas compartan la misma fecha de cumpleaños en un grupo y la cantidad de personas necesarias para que esto sea probable. Aunque puede parecer que se necesitaría un grupo grande para que dos personas compartan un cumpleaños, la probabilidad de que ocurra es sorprendentemente alta incluso en grupos relativamente pequeños.\n",
    "\n",
    "Para entenderlo mejor, consideremos un grupo de personas. La probabilidad de que dos personas en ese grupo compartan el mismo cumpleaños no es del 100% ni es tan baja como podrías pensar inicialmente. En realidad, incluso en un grupo de unas pocas decenas de personas, la probabilidad de que al menos dos de ellas compartan un cumpleaños es notablemente alta.\n",
    "\n",
    "Este fenómeno puede parecer desconcertante a primera vista, pero se puede explicar mediante el concepto de combinatoria y la probabilidad de intersección. La clave para entender la paradoja del cumpleaños es que no estamos calculando la probabilidad de que una persona en particular comparta su cumpleaños con alguien más, sino la probabilidad de que al menos dos personas compartan un cumpleaños en el grupo.\n",
    "\n",
    "Este concepto es fascinante porque desafía nuestra intuición sobre cómo se acumulan las probabilidades en grupos. \n",
    "\n",
    "<h2>Problema de La Paradoja del Cumpleaños</h2>\n",
    "\n",
    "En una clase con N estudiantes, nos planteamos el interrogante sobre la probabilidad de que, al menos, dos de ellos compartan la misma fecha de cumpleaños.\n",
    "\n",
    "Si la clase consta de 4 personas, ¿cuál es la probabilidad de que algunas de ellas compartan la misma fecha de nacimiento? Para abordar esta pregunta, podemos emplear distintos enfoques de probabilidad. Uno de ellos es la probabilidad basada en eventos, que se calcula como el número de eventos deseados dividido por el número total de eventos posibles.\n",
    "\n",
    "Por ejemplo, consideremos el lanzamiento de un dado. Hay 6 posibles resultados en total, lo que constituye el denominador de nuestra fracción. El numerador dependerá del evento que nos interese. Si deseamos saber la probabilidad de obtener un número par, hay 3 opciones (2, 4, 6), por lo que el numerador es 3. Así, la probabilidad de que ocurra este evento es 0.5.\n",
    "\n",
    "Cuando trabajamos con probabilidad basada en eventos, estamos, en esencia, realizando conteos. Con el uso de combinatorias, podemos determinar las distintas formas en que un evento puede ocurrir. En este esquema, todos los eventos tienen igual probabilidad de suceder. En el contexto de \"y\", multiplicamos las ocurrencias; mientras que en el contexto de \"o\", sumamos las ocurrencias.\n",
    "\n",
    "Retomando el ejemplo del dado, si lanzamos dos dados, ¿cuál es la probabilidad de obtener un resultado de 2 o 4?\n",
    "\n",
    "$$P(2∪4) = P(2) + P(4) = \\frac{1+1}{6} = \\frac{1}{3} $$\n",
    "\n",
    "Pero si decidimos lanzar el dado dos veces y estamos interesados en conocer la probabilidad de obtener un 2 en el primer lanzamiento y un 4 en el segundo, podemos calcularlo multiplicando las probabilidades de cada evento individual:\n",
    "\n",
    "$$ P(2) * P(4) = \\frac{1}{6} * \\frac{1}{6} = \\frac{1}{36} $$\n",
    "\n",
    "Siguiendo con este mismo ejemplo, pero ahora deseamos obtener un 2 o un 4 en el primer lanzamiento y luego en el segundo lanzamiento obtener un número distinto al obtenido anteriormente, tenemos dos posibilidades:\n",
    "\n",
    "\n",
    "$$ [P(2) * P(4)] + [P(4) * P(2)] = \\frac{2}{36} = \\frac{1}{18} $$\n",
    "\n",
    "Desde la perspectiva de la probabilidad basada en frecuencias, nos concentramos en distribuciones. Las preguntas se centran en variables continuas que no son contables, como por ejemplo, ¿Cuál es la probabilidad de que llegue un autobús a la intersección de Bolívar con Lincoln en los primeros 5 minutos después de mi llegada a ese punto?\n",
    "\n",
    "Por último, el enfoque subjetivo se fundamenta en la estadística Bayesiana, donde las distribuciones son elaboradas según las necesidades del problema planteado, con suposiciones adoptadas.\n",
    "\n",
    "<h3>Retomando el problema</h3>\n",
    "\n",
    "En un año hay 365 días, suponemos que todos los días del año tienen la misma probabilidad de ocurrencia.\n",
    "\n",
    "Si hay 4 estudiantes en el grupo, la probabilidad de adivinar el día de cumpleaños de uno de ellos es de $$1/365$$ \n",
    "\n",
    "En este caso, para determinar el denominador, simplemente multiplicamos 365 por la cantidad de personas en la muestra. En este caso, sería $$365^4$$\n",
    "\n",
    "Para determinar el numerador, debemos contar todas las posibilidades que pueden ocurrir. La primera persona tiene 365 opciones para su cumpleaños, pero el cuarto estudiante tiene 365 opciones menos una, ya que puede coincidir con cualquiera de los días anteriores. Sin embargo, hay otras combinaciones posibles.\n",
    "\n",
    "El truco de este problema radica en que la probabilidad de que al menos una persona en el grupo comparta su cumpleaños con otra del grupo es igual al complemento de que todos tengan una fecha de cumpleaños única.\n",
    "\n",
    "Podemos reformular el problema así: ¿Cuál es la probabilidad de que cada integrante del grupo tenga un cumpleaños único? Para el ejemplo con 4 estudiantes en una clase, el denominador sería 365^4, y el numerador sería 365 x 364 x 363 x 362.\n",
    "\n",
    "$$ P(\\text{cumpleaños únicos}) = \\frac{365 * 364 * 363 * 362}{365^4} = 0.9836 $$\n",
    "\n",
    "$$ P(\\text{al menos un cumpleaños compartido}) = 1 - P(\\text{cumpleaños únicos}) = 1 - 0.9836 = 0.0164 $$\n",
    "\n",
    "<h2>Simulando La Paradoja del Cumpleañoss</h2>\n",
    "\n",
    "Aproximar la probabilidad de coincidencia de cumpleaños con un enfoque de simulación básicamente implica tomar muestras aleatorias de multiple personas en una población y contar cuántas de ellas tienen al menos una coincidencia de cumpleaños. Luego simplemente divides este número por el total de muestras y esto se aproxima a la probabilidad del resultado de al menos una coincidencia.\n",
    "\n",
    "Pero dado que obtener muestras aleatorias de cumpleaños en realidad es bastante difícil y consume mucho tiempo, queremos simular este proceso con las suposiciones simplificadoras del problema original del cumpleaños. Es decir:\n",
    "\n",
    "- Los cumpleaños son independientes entre sí.\n",
    "- Cada posible cumpleaños tiene la misma probabilidad.\n",
    "- Solo hay 365 posibles cumpleaños.\n",
    "\n",
    "<h3>Deseamos calcular la probabilidad de que en un curso de 22 estudiantes de una clase de Procesos Estocásticos al menos dos compartan la misma fecha de cumpleaños</h3>"
   ]
  },
  {
   "cell_type": "code",
   "execution_count": 34,
   "metadata": {},
   "outputs": [],
   "source": [
    "import seaborn as sns\n",
    "from matplotlib import pyplot as plt\n",
    "from random import randint"
   ]
  },
  {
   "cell_type": "markdown",
   "metadata": {},
   "source": [
    "Esta función, generate_random_birthday, utiliza la biblioteca random de Python para generar un número aleatorio entre 1 y 365, que representaría los días del año. Este rango de 1 a 365 incluye todos los días del año, sin tener en cuenta si es un año bisiesto o no. Cada número representa un día del año, y cada día tiene la misma probabilidad de ser seleccionado. Por lo tanto, este método asigna aleatoriamente un día de cumpleaños para un individuo."
   ]
  },
  {
   "cell_type": "code",
   "execution_count": 35,
   "metadata": {},
   "outputs": [],
   "source": [
    "def generate_random_birthday(num_days):\n",
    "    birthday = randint(1, num_days)\n",
    "    return birthday"
   ]
  },
  {
   "cell_type": "markdown",
   "metadata": {},
   "source": [
    "La función generate_k_birthdays utiliza la función generate_random_birthday para generar k días de cumpleaños aleatorios y los almacena en una lista."
   ]
  },
  {
   "cell_type": "code",
   "execution_count": 36,
   "metadata": {},
   "outputs": [],
   "source": [
    "def generate_k_birthdays(k, num_days):\n",
    "    birthdays = [generate_random_birthday(num_days) for _ in range(k)]\n",
    "    return birthdays"
   ]
  },
  {
   "cell_type": "markdown",
   "metadata": {},
   "source": [
    "La función aloc, para verificar al menos una coincidencia, se utiliza para verificar si en una lista de cumpleaños uno de los valores se repite."
   ]
  },
  {
   "cell_type": "code",
   "execution_count": 37,
   "metadata": {},
   "outputs": [],
   "source": [
    "\n",
    "def aloc(birthdays):\n",
    "    unique_birthdays = set(birthdays)\n",
    " \n",
    "    num_birthdays = len(birthdays)\n",
    "    num_unique_birthdays = len(unique_birthdays)\n",
    "    has_coincidence = (num_birthdays != num_unique_birthdays)\n",
    " \n",
    "    return has_coincidence"
   ]
  },
  {
   "cell_type": "markdown",
   "metadata": {},
   "source": [
    "La función estimate_p_aloc utiliza una simulación de Monte Carlo para estimar la probabilidad de que ocurra al menos una coincidencia de cumpleaños al correr múltiples pruebas, lo que nos proporciona una idea del promedio de ocurrencia de este evento en un conjunto de datos aleatorio."
   ]
  },
  {
   "cell_type": "code",
   "execution_count": 38,
   "metadata": {},
   "outputs": [],
   "source": [
    "def estimate_p_aloc(k, n, num_days=365):\n",
    "    num_aloc = 0\n",
    "    for _ in range(n):\n",
    "        birthdays = generate_k_birthdays(k, num_days)\n",
    "        has_coincidence = aloc(birthdays)\n",
    "        if has_coincidence:\n",
    "            num_aloc += 1\n",
    " \n",
    "    p_aloc = num_aloc / n\n",
    "    return p_aloc"
   ]
  },
  {
   "cell_type": "markdown",
   "metadata": {},
   "source": [
    "Al llamar a estimate_p_aloc con un parámetro k de 22 (representando la cantidad de estudiantes) y n de 1000 (el número de ensayos), llevamos a cabo una simulación exhaustiva. En cada ensayo, se generaron aleatoriamente los días de cumpleaños para los 22 estudiantes y se verificó si había al menos una coincidencia. Este proceso se repitió mil veces para obtener una muestra significativa de resultados.\n",
    "\n",
    "Al finalizar la ejecución, obtuvimos un resultado que nos indicó cuántos de los 1000 ensayos resultaron en coincidencias de cumpleaños. Esta información nos permitió estimar la probabilidad de que ocurra al menos una coincidencia de cumpleaños en un grupo de 22 estudiantes, brindándonos una visión más clara sobre la frecuencia de este evento en un contexto simulado."
   ]
  },
  {
   "cell_type": "code",
   "execution_count": 39,
   "metadata": {},
   "outputs": [
    {
     "name": "stdout",
     "output_type": "stream",
     "text": [
      "La probabilidad estimado de conincidencia de cumpleaños luego de 1000 ensayos para un grupo de 22 estudiantes: 0.522\n"
     ]
    }
   ],
   "source": [
    "k=22\n",
    "n=1000\n",
    "num_days=365\n",
    "p_aloc = estimate_p_aloc(k, n, num_days)\n",
    "print(f\"La probabilidad estimado de conincidencia de cumpleaños luego de {n} ensayos para un grupo de {k} estudiantes: {p_aloc}\")"
   ]
  },
  {
   "cell_type": "markdown",
   "metadata": {},
   "source": [
    "Ahora, nuestro interés se enfoca en evaluar cómo varía la probabilidad de que al menos dos personas compartan la misma fecha de cumpleaños en función del tamaño del grupo.\n",
    "\n",
    "Al variar el tamaño del grupo, desde pequeños conjuntos de estudiantes hasta grupos más grandes, hemos observado cómo cambia la probabilidad de coincidencia de cumpleaños. Este análisis nos proporciona información valiosa sobre cómo la probabilidad de coincidencia se ve afectada por el número de personas en el grupo.\n",
    "\n",
    "Comprender cómo varía esta probabilidad en función del tamaño del grupo es fundamental para tomar decisiones informadas en una variedad de contextos, desde la planificación de eventos hasta la gestión de riesgos en diversos escenarios. Por lo tanto, nos permite obtener una visión más completa de la dinámica de las coincidencias de cumpleaños y su relación con el tamaño del grupo."
   ]
  },
  {
   "cell_type": "code",
   "execution_count": 40,
   "metadata": {},
   "outputs": [],
   "source": [
    "def estimate_p_aloc_for_range(min, max, n, num_days):\n",
    "    k_probabilities = []\n",
    "    for k in range(min, max):\n",
    "        p_aloc = estimate_p_aloc(k, n, num_days)\n",
    "        k_probabilities.append(p_aloc)\n",
    "    \n",
    "    return k_probabilities\n"
   ]
  },
  {
   "cell_type": "code",
   "execution_count": 41,
   "metadata": {},
   "outputs": [],
   "source": [
    "def probaility_aloc_graph(prob):\n",
    "    sns.lineplot(prob)\n",
    "    plt.xlabel('Número de personas')\n",
    "    plt.ylabel('Probabilidad estimado de conincidencia de cumpleaños')"
   ]
  },
  {
   "cell_type": "markdown",
   "metadata": {},
   "source": [
    "Al utilizar esta función con diferentes tamaños de grupo, podemos obtener una serie de probabilidades que reflejan cómo cambia la probabilidad de coincidencia de cumpleaños a medida que aumentamos el número de personas en el grupo. Estos datos se pueden representar gráficamente para visualizar claramente la relación entre el tamaño del grupo y la probabilidad de que al menos dos personas compartan la misma fecha de cumpleaños.\n",
    "\n",
    "La capacidad de graficar estas probabilidades nos proporciona una herramienta poderosa para analizar y comunicar los resultados de nuestro estudio de manera más efectiva. A través de estas visualizaciones, podemos identificar tendencias y patrones que podrían no ser evidentes solo a partir de los números, facilitando una comprensión más profunda de la dinámica de las coincidencias de cumpleaños."
   ]
  },
  {
   "cell_type": "code",
   "execution_count": 42,
   "metadata": {},
   "outputs": [
    {
     "data": {
      "image/png": "[encoded data removed]",
      "text/plain": [
       "<Figure size 640x480 with 1 Axes>"
      ]
     },
     "metadata": {},
     "output_type": "display_data"
    }
   ],
   "source": [
    "min=2\n",
    "max=75\n",
    "n=1000\n",
    "num_days=365\n",
    "prob = estimate_p_aloc_for_range(min, max, n, num_days)\n",
    "probaility_aloc_graph(prob)"
   ]
  },
  {
   "cell_type": "markdown",
   "metadata": {},
   "source": [
    "<h2>Conclusión</h2>\n",
    "\n",
    "En conclusión, el estudio de la coincidencia de cumpleaños nos ha permitido explorar la probabilidad de que al menos dos personas compartan la misma fecha de cumpleaños en un grupo. Al realizar múltiples ensayos y variar el tamaño del grupo, hemos podido obtener una estimación precisa de cómo esta probabilidad cambia en diferentes escenarios. Este enfoque de simulación de Monte Carlo ha demostrado ser efectivo para modelar y entender la dinámica de las coincidencias de cumpleaños, brindándonos una perspectiva cuantitativa basada en datos.\n",
    "\n",
    "Los resultados obtenidos indican que, a medida que aumenta el tamaño del grupo, la probabilidad de coincidencia de cumpleaños también incrementa significativamente. Esta tendencia es especialmente notable cuando el grupo alcanza tamaños de 25 o más personas, donde la probabilidad de coincidencia supera el 50%. La capacidad de graficar estas probabilidades para distintos tamaños de grupo ha sido fundamental para visualizar y comunicar los resultados de manera clara y comprensible, facilitando la identificación de patrones y tendencias.\n",
    "\n",
    "En definitiva, la comprensión de cómo varía la probabilidad de coincidencia de cumpleaños según el tamaño del grupo tiene aplicaciones prácticas en diversos campos, desde la planificación de eventos hasta la gestión de riesgos. Este estudio no solo destaca la importancia de las herramientas de simulación y visualización en la investigación estadística, sino que también subraya la relevancia de interpretar los datos en un contexto más amplio. A medida que continuamos explorando estos fenómenos, es esencial seguir aplicando métodos robustos y visualizaciones efectivas para profundizar en nuestra comprensión y tomar decisiones informadas."
   ]
  }
 ],
 "metadata": {
  "kernelspec": {
   "display_name": "Python 3",
   "language": "python",
   "name": "python3"
  },
  "language_info": {
   "codemirror_mode": {
    "name": "ipython",
    "version": 3
   },
   "file_extension": ".py",
   "mimetype": "text/x-python",
   "name": "python",
   "nbconvert_exporter": "python",
   "pygments_lexer": "ipython3",
   "version": "3.8.2"
  }
 },
 "nbformat": 4,
 "nbformat_minor": 2
}
